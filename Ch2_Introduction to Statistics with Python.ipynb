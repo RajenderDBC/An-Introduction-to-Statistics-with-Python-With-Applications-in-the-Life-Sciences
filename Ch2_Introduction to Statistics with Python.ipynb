{
 "cells": [
  {
   "cell_type": "code",
   "execution_count": 1,
   "id": "94e68677",
   "metadata": {},
   "outputs": [],
   "source": [
    "#\n",
    "# An Introduction to Statistics with Python\n",
    "# With Applications in the Life Sciences\n",
    "# Chapter 2"
   ]
  },
  {
   "cell_type": "code",
   "execution_count": 2,
   "id": "73c4db62",
   "metadata": {},
   "outputs": [
    {
     "name": "stdout",
     "output_type": "stream",
     "text": [
      "Hello world\n"
     ]
    }
   ],
   "source": [
    "# 2.1.7 First Python Programs\n",
    "# a) Hello World\n",
    "print(\"Hello world\")"
   ]
  },
  {
   "cell_type": "code",
   "execution_count": 3,
   "id": "53ba84da",
   "metadata": {},
   "outputs": [
    {
     "name": "stdout",
     "output_type": "stream",
     "text": [
      "0  \t 0\n",
      "1  \t 1\n",
      "2  \t 4\n",
      "3  \t 9\n",
      "4  \t 16\n",
      "5  \t 25\n",
      "Done\n"
     ]
    }
   ],
   "source": [
    "# b) SquareMe\n",
    "# prints out the square of the numbers from zero to five. \n",
    "\n",
    "def squared(x):\n",
    "    return x**2\n",
    "\n",
    "for i in range(6):\n",
    "    print(i,\" \\t\", squared(i))\n",
    "\n",
    "print(\"Done\")\n",
    "\n",
    "# range(6) = {0,1,2,3,4,5} numbers from 0 to 5."
   ]
  },
  {
   "cell_type": "markdown",
   "id": "ce0c3651",
   "metadata": {},
   "source": [
    "# 2.2 Python Data Structures\n",
    "# 2.2.1 Python Datatypes\n",
    "Python offers a number of powerful data structures.\n",
    "* Tuples to group objects of different types.\n",
    "* Lists to group objects of the same types.\n",
    "* Arrays to work with numerical data. \n",
    "* Dictionaries for named, structured data sets.\n",
    "* DataFrames for statistical data analysis."
   ]
  },
  {
   "cell_type": "markdown",
   "id": "2dc3db31",
   "metadata": {},
   "source": [
    "## Tuple()\n",
    "A collection of different things. \n",
    "\n",
    "Tuples are “immutable”, i.e., they cannot be modified after creation."
   ]
  },
  {
   "cell_type": "code",
   "execution_count": 4,
   "id": "582fa578",
   "metadata": {},
   "outputs": [],
   "source": [
    "import numpy as np"
   ]
  },
  {
   "cell_type": "code",
   "execution_count": 5,
   "id": "0f2230a7",
   "metadata": {},
   "outputs": [
    {
     "name": "stdout",
     "output_type": "stream",
     "text": [
      "[0.  0.2 0.4 0.6 0.8 1.  1.2 1.4 1.6 1.8 2.  2.2 2.4 2.6 2.8]\n",
      "<class 'numpy.ndarray'>\n"
     ]
    }
   ],
   "source": [
    "print(np.arange(0,3,0.2))\n",
    "print(type(np.arange(0,3,0.2)))"
   ]
  },
  {
   "cell_type": "code",
   "execution_count": 6,
   "id": "95c82d7d",
   "metadata": {},
   "outputs": [],
   "source": [
    "myTuple = ('abc', np.arange(0,3,0.2), 2.5)  "
   ]
  },
  {
   "cell_type": "code",
   "execution_count": 7,
   "id": "3e5189a4",
   "metadata": {},
   "outputs": [
    {
     "name": "stdout",
     "output_type": "stream",
     "text": [
      "abc\n",
      "[0.  0.2 0.4 0.6 0.8 1.  1.2 1.4 1.6 1.8 2.  2.2 2.4 2.6 2.8]\n",
      "2.5\n"
     ]
    }
   ],
   "source": [
    "print(myTuple[0])\n",
    "print(myTuple[1])\n",
    "print(myTuple[2])"
   ]
  },
  {
   "cell_type": "markdown",
   "id": "a7b18eca",
   "metadata": {},
   "source": [
    "## List [] \n",
    "* Lists are “mutable”, i.e., their elements can be modified. \n",
    "* Lists are typically used to collect items of the same type (numbers, strings, : : :). "
   ]
  },
  {
   "cell_type": "code",
   "execution_count": 8,
   "id": "10aea585",
   "metadata": {},
   "outputs": [],
   "source": [
    "myList = ['abc', 'def', 'ghij'] # square bracket used for lists"
   ]
  },
  {
   "cell_type": "code",
   "execution_count": 9,
   "id": "47ca310e",
   "metadata": {},
   "outputs": [
    {
     "name": "stdout",
     "output_type": "stream",
     "text": [
      "['abc', 'def', 'ghij', 'klm']\n"
     ]
    }
   ],
   "source": [
    "# Appending list\n",
    "myList.append('klm')\n",
    "print(myList)"
   ]
  },
  {
   "cell_type": "code",
   "execution_count": 10,
   "id": "c62e81aa",
   "metadata": {},
   "outputs": [],
   "source": [
    "myList2 = [1,2,3,4]\n",
    "myList3 = [2, 4,5,6]"
   ]
  },
  {
   "cell_type": "code",
   "execution_count": 11,
   "id": "a4409da2",
   "metadata": {},
   "outputs": [
    {
     "data": {
      "text/plain": [
       "[1, 2, 3, 4, 2, 4, 5, 6]"
      ]
     },
     "execution_count": 11,
     "metadata": {},
     "output_type": "execute_result"
    }
   ],
   "source": [
    "myList2 + myList3"
   ]
  },
  {
   "cell_type": "markdown",
   "id": "52c6094c",
   "metadata": {},
   "source": [
    "## Array [] \n",
    "* vectors and matrices, for numerical data manipulation.\n",
    "* Defined in numpy.\n",
    "* With arrays, “+” adds the corresponding elements;\n",
    "* he array- method .dot (@) performs a scalar multiplication of two arrays."
   ]
  },
  {
   "cell_type": "code",
   "execution_count": 12,
   "id": "627fbc0a",
   "metadata": {},
   "outputs": [
    {
     "data": {
      "text/plain": [
       "array([1, 2, 3, 4])"
      ]
     },
     "execution_count": 12,
     "metadata": {},
     "output_type": "execute_result"
    }
   ],
   "source": [
    "myArray2 = np.array(myList2)\n",
    "myArray2"
   ]
  },
  {
   "cell_type": "code",
   "execution_count": 13,
   "id": "b875b7fe",
   "metadata": {},
   "outputs": [
    {
     "data": {
      "text/plain": [
       "array([2, 4, 5, 6])"
      ]
     },
     "execution_count": 13,
     "metadata": {},
     "output_type": "execute_result"
    }
   ],
   "source": [
    "myArray3 = np.array(myList3)\n",
    "myArray3"
   ]
  },
  {
   "cell_type": "code",
   "execution_count": 14,
   "id": "a493a798",
   "metadata": {},
   "outputs": [
    {
     "data": {
      "text/plain": [
       "array([ 3,  6,  8, 10])"
      ]
     },
     "execution_count": 14,
     "metadata": {},
     "output_type": "execute_result"
    }
   ],
   "source": [
    "myArray2 + myArray3 "
   ]
  },
  {
   "cell_type": "code",
   "execution_count": 15,
   "id": "46dd5327",
   "metadata": {},
   "outputs": [
    {
     "data": {
      "text/plain": [
       "49"
      ]
     },
     "execution_count": 15,
     "metadata": {},
     "output_type": "execute_result"
    }
   ],
   "source": [
    "myArray2 @ myArray3"
   ]
  },
  {
   "cell_type": "code",
   "execution_count": 16,
   "id": "0735ba42",
   "metadata": {},
   "outputs": [
    {
     "data": {
      "text/plain": [
       "49"
      ]
     },
     "execution_count": 16,
     "metadata": {},
     "output_type": "execute_result"
    }
   ],
   "source": [
    "myArray2 .dot(myArray3)"
   ]
  },
  {
   "cell_type": "markdown",
   "id": "14105d78",
   "metadata": {},
   "source": [
    "## Dictionary { } \n",
    "* Dictionaries are unordered (key/value) collections of content, where the content is addressed as dict['key']. \n",
    "\n",
    "* Dictionaries can be created with the command dict, or by using curly brackets {...}:"
   ]
  },
  {
   "cell_type": "code",
   "execution_count": 17,
   "id": "2bfe571c",
   "metadata": {},
   "outputs": [
    {
     "data": {
      "text/plain": [
       "{'one': 1, 'two': 2, 'info': 'some information'}"
      ]
     },
     "execution_count": 17,
     "metadata": {},
     "output_type": "execute_result"
    }
   ],
   "source": [
    "myDict = dict(one=1, two=2, info='some information')\n",
    "myDict"
   ]
  },
  {
   "cell_type": "code",
   "execution_count": 18,
   "id": "0cb1fcae",
   "metadata": {},
   "outputs": [
    {
     "data": {
      "text/plain": [
       "{'ten': 1, 'twenty': 20, 'info': 'more information'}"
      ]
     },
     "execution_count": 18,
     "metadata": {},
     "output_type": "execute_result"
    }
   ],
   "source": [
    "myDict2 = {'ten':1, 'twenty':20, 'info':'more information'}\n",
    "myDict2"
   ]
  },
  {
   "cell_type": "code",
   "execution_count": 19,
   "id": "a2197861",
   "metadata": {},
   "outputs": [
    {
     "data": {
      "text/plain": [
       "'some information'"
      ]
     },
     "execution_count": 19,
     "metadata": {},
     "output_type": "execute_result"
    }
   ],
   "source": [
    "myDict['info']"
   ]
  },
  {
   "cell_type": "code",
   "execution_count": 20,
   "id": "336a82c5",
   "metadata": {},
   "outputs": [
    {
     "data": {
      "text/plain": [
       "dict_keys(['one', 'two', 'info'])"
      ]
     },
     "execution_count": 20,
     "metadata": {},
     "output_type": "execute_result"
    }
   ],
   "source": [
    "myDict.keys()"
   ]
  },
  {
   "cell_type": "markdown",
   "id": "f37cf383",
   "metadata": {},
   "source": [
    "### DataFrame \n",
    "* Data structure optimized for working with named, statistical data. Defined in pandas."
   ]
  },
  {
   "cell_type": "markdown",
   "id": "24e3d59f",
   "metadata": {},
   "source": [
    "## 2.2.2 Indexing and Slicing\n",
    "* The rules for addressing individual elements in Python lists or tuples or in numpy.\n",
    "1. a[start : end] # items start through end-1\n",
    "2. a[start : ] # items start through the rest of the array\n",
    "3. a[ : end] # items from the beginning through end-1\n",
    "4. a[ : ] # # a copy of the whole array\n",
    "5. a[start : end : step] # start through not past end, by step\n",
    "\n",
    "* indexing starts at 0,\n",
    "\n",
    "1. a[-1] # last item in the array\n",
    "2. a[-2:] # last two items in the array\n",
    "3. a[:-2] # everything except the last two items"
   ]
  },
  {
   "cell_type": "code",
   "execution_count": 21,
   "id": "6cdcc4ef",
   "metadata": {},
   "outputs": [
    {
     "name": "stdout",
     "output_type": "stream",
     "text": [
      "length(a) =  5\n",
      "<class 'str'>\n",
      "a[0] =  h\n"
     ]
    }
   ],
   "source": [
    "a = 'hello'\n",
    "print(\"length(a) = \", len(a))\n",
    "print(type(a))\n",
    "print(\"a[0] = \", a[0])"
   ]
  },
  {
   "cell_type": "code",
   "execution_count": 22,
   "id": "a44d1e84",
   "metadata": {},
   "outputs": [
    {
     "data": {
      "text/plain": [
       "'hell'"
      ]
     },
     "execution_count": 22,
     "metadata": {},
     "output_type": "execute_result"
    }
   ],
   "source": [
    "a[0:4]"
   ]
  },
  {
   "cell_type": "markdown",
   "id": "b713c61c",
   "metadata": {},
   "source": [
    "## 2.2.3 Vectors and Arrays\n",
    "* numpy is the Python module that makes working with numbers efficient.\n",
    "* import numpy as np"
   ]
  },
  {
   "cell_type": "code",
   "execution_count": 23,
   "id": "50f01b77",
   "metadata": {},
   "outputs": [],
   "source": [
    "import numpy as np"
   ]
  },
  {
   "cell_type": "code",
   "execution_count": 24,
   "id": "99eb4d67",
   "metadata": {},
   "outputs": [
    {
     "data": {
      "text/plain": [
       "array([0., 0., 0.])"
      ]
     },
     "execution_count": 24,
     "metadata": {},
     "output_type": "execute_result"
    }
   ],
   "source": [
    "# np.zeros: generates zeros.\n",
    "np.zeros(3)"
   ]
  },
  {
   "cell_type": "code",
   "execution_count": 25,
   "id": "727a3496",
   "metadata": {},
   "outputs": [
    {
     "data": {
      "text/plain": [
       "array([[0., 0., 0.],\n",
       "       [0., 0., 0.]])"
      ]
     },
     "execution_count": 25,
     "metadata": {},
     "output_type": "execute_result"
    }
   ],
   "source": [
    "np.zeros( (2,3) )"
   ]
  },
  {
   "cell_type": "code",
   "execution_count": 26,
   "id": "7b524bb2",
   "metadata": {},
   "outputs": [
    {
     "data": {
      "text/plain": [
       "array([1., 1., 1.])"
      ]
     },
     "execution_count": 26,
     "metadata": {},
     "output_type": "execute_result"
    }
   ],
   "source": [
    "## np.ones: generates ones.\n",
    "np.ones(3)"
   ]
  },
  {
   "cell_type": "code",
   "execution_count": 27,
   "id": "543a1a28",
   "metadata": {},
   "outputs": [
    {
     "data": {
      "text/plain": [
       "array([[1., 1., 1., 1.],\n",
       "       [1., 1., 1., 1.],\n",
       "       [1., 1., 1., 1.]])"
      ]
     },
     "execution_count": 27,
     "metadata": {},
     "output_type": "execute_result"
    }
   ],
   "source": [
    "np.ones((3,4))"
   ]
  },
  {
   "cell_type": "code",
   "execution_count": 28,
   "id": "bcb90be9",
   "metadata": {},
   "outputs": [
    {
     "data": {
      "text/plain": [
       "-0.026564291399375398"
      ]
     },
     "execution_count": 28,
     "metadata": {},
     "output_type": "execute_result"
    }
   ],
   "source": [
    "#  np.random.randn: generates normally distributed numbers, \n",
    "#  with a mean of 0 and a standard deviation of 1.\n",
    "np.random.randn()"
   ]
  },
  {
   "cell_type": "code",
   "execution_count": 29,
   "id": "af7244a9",
   "metadata": {},
   "outputs": [
    {
     "data": {
      "text/plain": [
       "array([0.26588659, 0.28503649, 0.59638781])"
      ]
     },
     "execution_count": 29,
     "metadata": {},
     "output_type": "execute_result"
    }
   ],
   "source": [
    "np.random.rand(3)"
   ]
  },
  {
   "cell_type": "code",
   "execution_count": 30,
   "id": "3b6c1122",
   "metadata": {},
   "outputs": [
    {
     "data": {
      "text/plain": [
       "array([[0.67701059, 0.16201136, 0.89371556, 0.32408421],\n",
       "       [0.03522447, 0.82388382, 0.70583081, 0.91449768]])"
      ]
     },
     "execution_count": 30,
     "metadata": {},
     "output_type": "execute_result"
    }
   ],
   "source": [
    "np.random.rand(2,4)"
   ]
  },
  {
   "cell_type": "code",
   "execution_count": 31,
   "id": "53090e79",
   "metadata": {},
   "outputs": [
    {
     "data": {
      "text/plain": [
       "array([0, 1, 2, 3])"
      ]
     },
     "execution_count": 31,
     "metadata": {},
     "output_type": "execute_result"
    }
   ],
   "source": [
    "# np.arange: generates a range of numbers. \n",
    "# Parameters can be start, end, steppingInterval. \n",
    "# Note that the end-value is excluded! \n",
    "np.arange(4)"
   ]
  },
  {
   "cell_type": "code",
   "execution_count": 32,
   "id": "7a028b10",
   "metadata": {},
   "outputs": [
    {
     "data": {
      "text/plain": [
       "array([1. , 1.5, 2. , 2.5])"
      ]
     },
     "execution_count": 32,
     "metadata": {},
     "output_type": "execute_result"
    }
   ],
   "source": [
    "np.arange(1,3,0.5)"
   ]
  },
  {
   "cell_type": "code",
   "execution_count": 33,
   "id": "9ba9d73a",
   "metadata": {},
   "outputs": [
    {
     "data": {
      "text/plain": [
       "array([0. , 0.5, 1. , 1.5, 2. , 2.5])"
      ]
     },
     "execution_count": 33,
     "metadata": {},
     "output_type": "execute_result"
    }
   ],
   "source": [
    "xLow = np.arange(0,3,0.5)\n",
    "xLow"
   ]
  },
  {
   "cell_type": "code",
   "execution_count": 34,
   "id": "7b65f96a",
   "metadata": {},
   "outputs": [
    {
     "data": {
      "text/plain": [
       "array([3. , 3.5, 4. , 4.5])"
      ]
     },
     "execution_count": 34,
     "metadata": {},
     "output_type": "execute_result"
    }
   ],
   "source": [
    "xHigh = np.arange(3,5,0.5)\n",
    "xHigh"
   ]
  },
  {
   "cell_type": "code",
   "execution_count": 35,
   "id": "905e51f9",
   "metadata": {},
   "outputs": [
    {
     "data": {
      "text/plain": [
       "array([ 0.,  2.,  4.,  6.,  8., 10.])"
      ]
     },
     "execution_count": 35,
     "metadata": {},
     "output_type": "execute_result"
    }
   ],
   "source": [
    "# np.linspace: generates linearly spaced numbers.\n",
    "np.linspace(0,10,6)"
   ]
  },
  {
   "cell_type": "code",
   "execution_count": 36,
   "id": "912c1187",
   "metadata": {},
   "outputs": [
    {
     "data": {
      "text/plain": [
       "array([ 0.        ,  0.20408163,  0.40816327,  0.6122449 ,  0.81632653,\n",
       "        1.02040816,  1.2244898 ,  1.42857143,  1.63265306,  1.83673469,\n",
       "        2.04081633,  2.24489796,  2.44897959,  2.65306122,  2.85714286,\n",
       "        3.06122449,  3.26530612,  3.46938776,  3.67346939,  3.87755102,\n",
       "        4.08163265,  4.28571429,  4.48979592,  4.69387755,  4.89795918,\n",
       "        5.10204082,  5.30612245,  5.51020408,  5.71428571,  5.91836735,\n",
       "        6.12244898,  6.32653061,  6.53061224,  6.73469388,  6.93877551,\n",
       "        7.14285714,  7.34693878,  7.55102041,  7.75510204,  7.95918367,\n",
       "        8.16326531,  8.36734694,  8.57142857,  8.7755102 ,  8.97959184,\n",
       "        9.18367347,  9.3877551 ,  9.59183673,  9.79591837, 10.        ])"
      ]
     },
     "execution_count": 36,
     "metadata": {},
     "output_type": "execute_result"
    }
   ],
   "source": [
    "np.linspace(0,10)"
   ]
  },
  {
   "cell_type": "code",
   "execution_count": 37,
   "id": "eda6c3a9",
   "metadata": {},
   "outputs": [
    {
     "data": {
      "text/plain": [
       "array([ 0.        ,  0.52631579,  1.05263158,  1.57894737,  2.10526316,\n",
       "        2.63157895,  3.15789474,  3.68421053,  4.21052632,  4.73684211,\n",
       "        5.26315789,  5.78947368,  6.31578947,  6.84210526,  7.36842105,\n",
       "        7.89473684,  8.42105263,  8.94736842,  9.47368421, 10.        ])"
      ]
     },
     "execution_count": 37,
     "metadata": {},
     "output_type": "execute_result"
    }
   ],
   "source": [
    "np.linspace(0,10,20)"
   ]
  },
  {
   "cell_type": "code",
   "execution_count": 38,
   "id": "aef172b6",
   "metadata": {},
   "outputs": [
    {
     "data": {
      "text/plain": [
       "array([1, 2, 3, 4])"
      ]
     },
     "execution_count": 38,
     "metadata": {},
     "output_type": "execute_result"
    }
   ],
   "source": [
    "# np.array : generates a numpy array from given numerical data.\n",
    "np.array([1,2,3,4])"
   ]
  },
  {
   "cell_type": "code",
   "execution_count": 39,
   "id": "98078b87",
   "metadata": {},
   "outputs": [],
   "source": [
    "# Matrices are simply “lists of lists”\n",
    "A = np.array([[2,3],[4,5],[6,7]])"
   ]
  },
  {
   "cell_type": "code",
   "execution_count": 40,
   "id": "e60a5c2e",
   "metadata": {},
   "outputs": [
    {
     "data": {
      "text/plain": [
       "array([2, 3])"
      ]
     },
     "execution_count": 40,
     "metadata": {},
     "output_type": "execute_result"
    }
   ],
   "source": [
    "A[0] "
   ]
  },
  {
   "cell_type": "code",
   "execution_count": 41,
   "id": "616ea45a",
   "metadata": {},
   "outputs": [
    {
     "data": {
      "text/plain": [
       "array([4, 5])"
      ]
     },
     "execution_count": 41,
     "metadata": {},
     "output_type": "execute_result"
    }
   ],
   "source": [
    "A[1]"
   ]
  },
  {
   "cell_type": "code",
   "execution_count": 42,
   "id": "7aea9017",
   "metadata": {},
   "outputs": [
    {
     "data": {
      "text/plain": [
       "array([], shape=(0, 2), dtype=int64)"
      ]
     },
     "execution_count": 42,
     "metadata": {},
     "output_type": "execute_result"
    }
   ],
   "source": [
    "A[:0]"
   ]
  },
  {
   "cell_type": "code",
   "execution_count": 43,
   "id": "9e89ae3f",
   "metadata": {},
   "outputs": [
    {
     "data": {
      "text/plain": [
       "array([ True,  True,  True])"
      ]
     },
     "execution_count": 43,
     "metadata": {},
     "output_type": "execute_result"
    }
   ],
   "source": [
    "# A vector is not the same as a one-dimensional matrix! \n",
    "x = np.arange(3) # vector\n",
    "x.T == x  # X.T = transpose of X"
   ]
  },
  {
   "cell_type": "code",
   "execution_count": 44,
   "id": "803af54f",
   "metadata": {},
   "outputs": [
    {
     "data": {
      "text/plain": [
       "array([[ True, False],\n",
       "       [False,  True]])"
      ]
     },
     "execution_count": 44,
     "metadata": {},
     "output_type": "execute_result"
    }
   ],
   "source": [
    "Amat = np.array([ [1,2], [3,4] ])\n",
    "Amat.T == Amat # symetric matircs"
   ]
  },
  {
   "cell_type": "code",
   "execution_count": 45,
   "id": "e195d4f8",
   "metadata": {},
   "outputs": [
    {
     "ename": "NameError",
     "evalue": "name 'xlabel' is not defined",
     "output_type": "error",
     "traceback": [
      "\u001b[0;31m---------------------------------------------------------------------------\u001b[0m",
      "\u001b[0;31mNameError\u001b[0m                                 Traceback (most recent call last)",
      "Cell \u001b[0;32mIn[45], line 8\u001b[0m\n\u001b[1;32m      5\u001b[0m x  \u001b[38;5;241m=\u001b[39m np\u001b[38;5;241m.\u001b[39msin(\u001b[38;5;241m2\u001b[39m \u001b[38;5;241m*\u001b[39m pi \u001b[38;5;241m*\u001b[39m freq \u001b[38;5;241m*\u001b[39m t)\n\u001b[1;32m      7\u001b[0m plt\u001b[38;5;241m.\u001b[39mplot(t,x)\n\u001b[0;32m----> 8\u001b[0m xlabel(\u001b[38;5;124m'\u001b[39m\u001b[38;5;124mTime[sec]\u001b[39m\u001b[38;5;124m'\u001b[39m)\n\u001b[1;32m      9\u001b[0m ylabel(\u001b[38;5;124m'\u001b[39m\u001b[38;5;124mvalues\u001b[39m\u001b[38;5;124m'\u001b[39m)\n\u001b[1;32m     10\u001b[0m savefig(\u001b[38;5;124m'\u001b[39m\u001b[38;5;124mSinewave.png\u001b[39m\u001b[38;5;124m'\u001b[39m, dpi \u001b[38;5;241m=\u001b[39m\u001b[38;5;241m200\u001b[39m)\n",
      "\u001b[0;31mNameError\u001b[0m: name 'xlabel' is not defined"
     ]
    },
    {
     "data": {
      "image/png": "[encoded data removed]",
      "text/plain": [
       "<Figure size 640x480 with 1 Axes>"
      ]
     },
     "metadata": {},
     "output_type": "display_data"
    }
   ],
   "source": [
    "from math import *\n",
    "import matplotlib.pyplot as plt\n",
    "t = np.arange(0,10,0.01)\n",
    "freq = 0.5\n",
    "x  = np.sin(2 * pi * freq * t)\n",
    "\n",
    "plt.plot(t,x)\n",
    "xlabel('Time[sec]')\n",
    "ylabel('values')\n",
    "savefig('Sinewave.png', dpi =200)\n",
    "plt.grid(True)\n",
    "plt.show()"
   ]
  },
  {
   "cell_type": "code",
   "execution_count": null,
   "id": "04566cb8",
   "metadata": {},
   "outputs": [],
   "source": [
    "from math import *\n",
    "import matplotlib.pyplot as plt\n",
    "t = np.arange(-1,1,0.1)\n",
    "\n",
    "x  = np.sin(t)/t\n",
    "\n",
    "plt.plot(t,x)\n",
    "xlabel('Time[sec]')\n",
    "ylabel('values')\n",
    "savefig('Sinewave.png', dpi =200)\n",
    "plt.show()"
   ]
  },
  {
   "cell_type": "code",
   "execution_count": null,
   "id": "d8589973",
   "metadata": {},
   "outputs": [],
   "source": [
    "import numpy as np\n",
    "import matplotlib.pyplot as plt\n",
    "\n",
    "x = np.linspace(-10, 10, 1000)  # Create an array of x values\n",
    "y = np.sin(x) / x  # Calculate y values\n",
    "\n",
    "plt.plot(x, y)\n",
    "plt.xlabel('x')\n",
    "plt.ylabel('sin(x)/x')\n",
    "plt.title('Plot of sin(x)/x')\n",
    "plt.grid(True)\n",
    "plt.show()"
   ]
  },
  {
   "cell_type": "code",
   "execution_count": null,
   "id": "ddb77705",
   "metadata": {},
   "outputs": [],
   "source": [
    "# Books program\n",
    "## Import standard packages\n",
    "import numpy as np\n",
    "import matplotlib.pyplot as plt\n",
    "\n",
    "# Generate the time-values\n",
    "t = np.r_[0:10:0.1]\n",
    "\n",
    "# Set the frequency, and calculate the sine-value\n",
    "freq = 0.5\n",
    "x = np.sin(2*np.pi*freq*t)\n",
    "# Plot the data\n",
    "plt.plot(t,x)\n",
    "\n",
    "# Format the plot\n",
    "plt.xlabel('Time[sec]')\n",
    "plt.ylabel('Values')\n",
    "\n",
    "# Generate a figure, one directory up\n",
    "plt.savefig(r'..\\Sinewave.png', dpi=200)\n",
    "\n",
    "# Put it on the screen\n",
    "plt.show()"
   ]
  },
  {
   "cell_type": "markdown",
   "id": "afaafd9f",
   "metadata": {},
   "source": [
    "## 2.4.2 Functions, Modules, and Packages\n",
    "\n",
    "### Function\n",
    "\n",
    "A function is defined by the keyword **def**, and can be defined anywhere in Python. It returns the object in the return statement, typically at the end of the function.\n",
    "\n",
    "### Modules Packages\n",
    "\n",
    "A module is a file with the extension **“.py”**. Modules can contain function and variable definitions, as well as valid Python statements. \n",
    "\n",
    "### Packages\n",
    "\n",
    "A package is a **folder containing multiple Python modules, and must have a file named __init__.py**. For example, numpy is a Python package. "
   ]
  },
  {
   "cell_type": "code",
   "execution_count": null,
   "id": "dfdcd0a4",
   "metadata": {},
   "outputs": [],
   "source": [
    "\n"
   ]
  },
  {
   "cell_type": "code",
   "execution_count": null,
   "id": "2fcee914",
   "metadata": {},
   "outputs": [],
   "source": []
  },
  {
   "cell_type": "code",
   "execution_count": null,
   "id": "ff5f1fe4",
   "metadata": {},
   "outputs": [],
   "source": []
  },
  {
   "cell_type": "code",
   "execution_count": null,
   "id": "d88b2d55",
   "metadata": {},
   "outputs": [],
   "source": []
  },
  {
   "cell_type": "code",
   "execution_count": null,
   "id": "1cdc0ba4",
   "metadata": {},
   "outputs": [],
   "source": []
  },
  {
   "cell_type": "code",
   "execution_count": null,
   "id": "88d88321",
   "metadata": {},
   "outputs": [],
   "source": []
  },
  {
   "cell_type": "code",
   "execution_count": null,
   "id": "5ef8be75",
   "metadata": {},
   "outputs": [],
   "source": []
  },
  {
   "cell_type": "code",
   "execution_count": null,
   "id": "90720b8a",
   "metadata": {},
   "outputs": [],
   "source": []
  },
  {
   "cell_type": "code",
   "execution_count": null,
   "id": "03af07ff",
   "metadata": {},
   "outputs": [],
   "source": []
  },
  {
   "cell_type": "code",
   "execution_count": null,
   "id": "eca67bc3",
   "metadata": {},
   "outputs": [],
   "source": []
  },
  {
   "cell_type": "code",
   "execution_count": null,
   "id": "1caadddc",
   "metadata": {},
   "outputs": [],
   "source": [
    "### 2.4.3 Python Tips\n",
    "import numpy as np\n",
    "import matplotlib.pyplot as plt \n",
    "import scipy as sp\n",
    "import pandas as pd\n",
    "import seaborn as sns"
   ]
  },
  {
   "cell_type": "code",
   "execution_count": null,
   "id": "54721c12",
   "metadata": {},
   "outputs": [],
   "source": [
    "# get the current director\n",
    "import os\n",
    "os.path.abspath(os.curdir)\n",
    "# change of directories using command os.chdir(...).\n"
   ]
  },
  {
   "cell_type": "code",
   "execution_count": null,
   "id": "1ef22f74",
   "metadata": {},
   "outputs": [],
   "source": [
    "## 2.5 Pandas: Data Structures for Statistics\n",
    "\n",
    "import numpy as np \n",
    "import pandas as pd\n",
    "t = np.arange(0,10,0.1) \n",
    "x = np.sin(t)\n",
    "y = np.cos(t)\n",
    "df = pd.DataFrame({'Time':t, 'x':x, 'y':y})\n",
    "\n",
    "df\n"
   ]
  },
  {
   "cell_type": "code",
   "execution_count": null,
   "id": "c9e73973",
   "metadata": {},
   "outputs": [],
   "source": [
    "# to address first column, we have two options\n",
    "df.Time\n",
    "\n",
    "df['Time']\n"
   ]
  },
  {
   "cell_type": "code",
   "execution_count": null,
   "id": "79e8e89f",
   "metadata": {},
   "outputs": [],
   "source": [
    "# To extract two columns\n",
    "data = df[['Time','x']]\n",
    "data.head()\n",
    "\n",
    "data.tail()\n",
    "\n"
   ]
  },
  {
   "cell_type": "code",
   "execution_count": null,
   "id": "9228788e",
   "metadata": {},
   "outputs": [],
   "source": [
    "# to get specific rows from 5 to 10\n",
    "data[4:10]\n",
    "\n"
   ]
  },
  {
   "cell_type": "code",
   "execution_count": null,
   "id": "119bb43b",
   "metadata": {},
   "outputs": [],
   "source": [
    "#The handling of DataFrames is somewhat different from the handling of numpy arrays. \n",
    "# For example, (numbered) rows and (labeled) columns can be addressed simultaneously\n",
    "\n",
    "data1 = df[['Time','y']][3:6]\n",
    "data1\n",
    "\n"
   ]
  },
  {
   "cell_type": "code",
   "execution_count": null,
   "id": "85c3fc83",
   "metadata": {},
   "outputs": [],
   "source": [
    "data.values"
   ]
  },
  {
   "cell_type": "code",
   "execution_count": null,
   "id": "48e6fccf",
   "metadata": {},
   "outputs": [],
   "source": [
    "x = data.values.T[0]\n",
    "x\n"
   ]
  },
  {
   "cell_type": "code",
   "execution_count": null,
   "id": "a9f096bc",
   "metadata": {},
   "outputs": [],
   "source": [
    "Time = data.values.T[1]\n",
    "Time\n"
   ]
  },
  {
   "cell_type": "markdown",
   "id": "89cc4cc0",
   "metadata": {},
   "source": [
    "### b) Notes on Data Selection\n",
    "\n",
    "* numpy handles “rows” first. E.g., data[0] is the first row of an array\n",
    "* pandas starts with the columns. E.g., df['values'][0] is the first element of the column 'values'.\n"
   ]
  },
  {
   "cell_type": "code",
   "execution_count": null,
   "id": "10f84337",
   "metadata": {},
   "outputs": [],
   "source": [
    "data[0]"
   ]
  },
  {
   "cell_type": "code",
   "execution_count": null,
   "id": "d0df305c",
   "metadata": {},
   "outputs": [],
   "source": [
    "df['Time'] # df is data frame using pandas"
   ]
  },
  {
   "cell_type": "code",
   "execution_count": null,
   "id": "1dfa04e2",
   "metadata": {},
   "outputs": [],
   "source": [
    "# extracting row from data frame\n",
    "print(df.loc[1])\n",
    "print(df.loc[10])\n",
    "df.iloc[10]\n",
    "\n",
    "df.iloc[2:4]\n"
   ]
  },
  {
   "cell_type": "markdown",
   "id": "b1a81a63",
   "metadata": {},
   "source": [
    "### 2.5.2 Grouping\n",
    "\n",
    "**pandas** offers powerful functions to handle missing data which are often replaced by **nan**’s **(“Not-A-Number”)**. It also allows more complex types of data manipulation like pivoting.\n",
    "\n"
   ]
  },
  {
   "cell_type": "code",
   "execution_count": null,
   "id": "4ab8a164",
   "metadata": {},
   "outputs": [],
   "source": [
    "import pandas as pd\n",
    "import matplotlib.pyplot as plt\n",
    "\n",
    "# survey on how many hours a day people watch the TV, \n",
    "# grouped into “m”ale and “f”emale responses:\n",
    "data = pd.DataFrame({'Gender': ['f', 'f', 'm', 'f', 'm',\n",
    "'m', 'f', 'm', 'f', 'm', 'm'], 'TV': [3.4, 3.5, 2.6, 4.7, 4.1, 4.1,\n",
    "5.1, 3.9, 3.7, 2.1, 4.3]})\n"
   ]
  },
  {
   "cell_type": "code",
   "execution_count": null,
   "id": "7d4e525e",
   "metadata": {},
   "outputs": [],
   "source": [
    "# Group the data\n",
    "grouped = data.groupby('Gender')\n",
    "grouped.head()\n",
    "\n"
   ]
  },
  {
   "cell_type": "code",
   "execution_count": null,
   "id": "66fa1663",
   "metadata": {},
   "outputs": [],
   "source": [
    "# Do some overview statistics \n",
    "print(grouped.describe())\n",
    "\n"
   ]
  },
  {
   "cell_type": "code",
   "execution_count": null,
   "id": "28d98523",
   "metadata": {},
   "outputs": [],
   "source": [
    "# Get the groups as DataFrames\n",
    "df_female = grouped.get_group('f')\n",
    "print(df_female)\n",
    "plt.boxplot(df_female['TV'])\n",
    "plt.grid(True)\n",
    "plt.show()\n",
    "\n"
   ]
  },
  {
   "cell_type": "code",
   "execution_count": null,
   "id": "57256105",
   "metadata": {},
   "outputs": [],
   "source": [
    "# Get the groups as DataFrames\n",
    "df_male = grouped.get_group('m')\n",
    "print(df_male)\n",
    "plt.boxplot(df_male['TV'])\n",
    "plt.grid(True)\n",
    "plt.show()\n",
    "\n"
   ]
  },
  {
   "cell_type": "code",
   "execution_count": null,
   "id": "626400b2",
   "metadata": {},
   "outputs": [],
   "source": [
    "# Get the corresponding numpy-array \n",
    "values_female = grouped.get_group('f').values\n",
    "values_female\n",
    "\n"
   ]
  },
  {
   "cell_type": "markdown",
   "id": "ea51d160",
   "metadata": {},
   "source": [
    "## 2.6 Statsmodels: Tools for Statistical Modeling\n",
    "\n",
    "* statsmodels is a Python package contributed to the community by the statsmodels development team.\n",
    "* statsmodels provides classes and functions for the estimation of many different statistical models, as well as for conducting statistical tests and statistical data exploration. An extensive list of result statistics are available for each estimator.\n"
   ]
  },
  {
   "cell_type": "code",
   "execution_count": null,
   "id": "f7b96ab9",
   "metadata": {},
   "outputs": [],
   "source": [
    "import numpy as np\n",
    "import pandas as pd\n",
    "import statsmodels.formula.api as sm\n"
   ]
  },
  {
   "cell_type": "code",
   "execution_count": null,
   "id": "5fc78254",
   "metadata": {},
   "outputs": [],
   "source": [
    "# Generate a noisy line, and save the data in a pandas-DataFrame \n",
    "x = np.arange(100)\n",
    "y = 0.5*x - 20 + np.random.randn(len(x))\n",
    "df = pd.DataFrame({'x':x, 'y':y})\n",
    "\n",
    "# Fit a linear model, using the \"formula\" language \n",
    "# added by the package \"patsy\"\n",
    "model = sm.ols('y~x', data=df).fit()\n",
    "print( model.summary() )\n"
   ]
  },
  {
   "cell_type": "markdown",
   "id": "bed85d70",
   "metadata": {},
   "source": [
    "### 2.7 Seaborn: Data Visualization\n",
    "* seaborn is a Python visualization library based on matplotlib. Its primary goal is to provide a concise, high-level interface for drawing statistical graphics\n",
    "\n"
   ]
  },
  {
   "cell_type": "code",
   "execution_count": null,
   "id": "87480d0d",
   "metadata": {},
   "outputs": [],
   "source": [
    "import numpy as np\n",
    "import matplotlib.pyplot as plt\n",
    "import pandas as pd \n",
    "import seaborn as sns\n",
    "\n",
    "\n",
    "x = np.linspace(1, 7, 50)\n",
    "y = 3 + 2*x + 1.5*np.random.randn(len(x)) \n",
    "df = pd.DataFrame({'xData':x, 'yData':y})\n",
    "\n",
    "sns.regplot(x ='xData', y ='yData', data = df)\n",
    "plt.show()"
   ]
  },
  {
   "cell_type": "code",
   "execution_count": null,
   "id": "c7a9f949",
   "metadata": {},
   "outputs": [],
   "source": []
  },
  {
   "cell_type": "code",
   "execution_count": null,
   "id": "b5653990",
   "metadata": {},
   "outputs": [],
   "source": []
  }
 ],
 "metadata": {
  "kernelspec": {
   "display_name": "Python 3 (ipykernel)",
   "language": "python",
   "name": "python3"
  },
  "language_info": {
   "codemirror_mode": {
    "name": "ipython",
    "version": 3
   },
   "file_extension": ".py",
   "mimetype": "text/x-python",
   "name": "python",
   "nbconvert_exporter": "python",
   "pygments_lexer": "ipython3",
   "version": "3.11.5"
  }
 },
 "nbformat": 4,
 "nbformat_minor": 5
}
